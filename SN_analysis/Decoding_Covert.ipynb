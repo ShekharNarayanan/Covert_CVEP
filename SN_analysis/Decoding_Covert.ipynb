{
 "cells": [
  {
   "cell_type": "code",
   "execution_count": 1,
   "metadata": {},
   "outputs": [],
   "source": [
    "# Loading libraries\n",
    "import numpy as np\n",
    "import os\n",
    "import scipy \n",
    "from matplotlib  import pyplot as plt\n",
    "import pyntbci\n"
   ]
  },
  {
   "cell_type": "markdown",
   "metadata": {},
   "source": [
    "##### Loading preprocessed data"
   ]
  },
  {
   "cell_type": "code",
   "execution_count": 2,
   "metadata": {},
   "outputs": [
    {
     "name": "stdout",
     "output_type": "stream",
     "text": [
      "X (40, 32, 2520) (trials x channels x samples)\n",
      "y (40,) (trials)\n",
      "V (2, 504) (classes, samples)\n",
      "fs 240 Hz\n",
      "fr 60 Hz\n",
      "Channels: Fp1, AF3, F7, F3, FC1, FC5, T7, C3, CP1, CP5, P7, P3, Pz, PO3, O1, Oz, O2, PO4, P4, P8, CP6, CP2, C4, T8, FC6, FC2, F4, F8, AF4, Fp2, Fz, Cz\n"
     ]
    }
   ],
   "source": [
    "# root directory for extracted data\n",
    "root_data = r\"C:\\Users\\s1081686\\Desktop\\RA_Project\\Scripts\\pynt_codes\\SN_pilot_data\\derivatives\\pilot\"\n",
    "\n",
    "#loading: COVERT data\n",
    "os.chdir(root_data)\n",
    "tmp_covert = np.load(\"pilot_cvep_covert_mgold_61_6521_40T.npz\")\n",
    "X = tmp_covert[\"X\"]\n",
    "y = tmp_covert[\"y\"]\n",
    "V = tmp_covert[\"V\"].T\n",
    "fs = tmp_covert[\"fs\"]\n",
    "fr = 60\n",
    "\n",
    "# For our experiment, we used only two classes. Hence, the flashing sequence matrix is limited to the first two codes in V.\n",
    "V_needed = V[0:2,:]\n",
    "V = V_needed\n",
    "\n",
    "print(\"X\", X.shape, \"(trials x channels x samples)\")  # EEG\n",
    "print(\"y\", y.shape, \"(trials)\")  # labels\n",
    "print(\"V\", V.shape, \"(classes, samples)\")  # codes\n",
    "print(\"fs\", fs, \"Hz\")  # sampling frequency\n",
    "print(\"fr\", fr, \"Hz\")  # presentation rate\n",
    "\n",
    "# Extract data dimensions\n",
    "n_trials, n_channels, n_samples = X.shape\n",
    "n_classes = V.shape[0]\n",
    "\n",
    "# Read cap file\n",
    "path = r\"C:\\Users\\s1081686\\AppData\\Local\\Packages\\PythonSoftwareFoundation.Python.3.11_qbz5n2kfra8p0\\LocalCache\\local-packages\\Python311\\site-packages\\pyntbci\\capfiles\" \n",
    "capfile = os.path.join(path, \"biosemi32.loc\")\n",
    "with open(capfile, \"r\") as fid:\n",
    "    channels = []\n",
    "    for line in fid.readlines():\n",
    "        channels.append(line.split(\"\\t\")[-1].strip())\n",
    "print(\"Channels:\", \", \".join(channels))"
   ]
  },
  {
   "cell_type": "markdown",
   "metadata": {},
   "source": [
    "##### Splitting data into two classes"
   ]
  },
  {
   "cell_type": "code",
   "execution_count": 3,
   "metadata": {},
   "outputs": [
    {
     "name": "stdout",
     "output_type": "stream",
     "text": [
      "Shape of data after separation (20, 32, 2520) (trials x channels x samples)\n"
     ]
    }
   ],
   "source": [
    "# Data and codes for 'N'key/class appearing on the right\n",
    "ind_0 = (y==0)\n",
    "X_0 = X[ind_0,:,:] \n",
    "V_0 = V[0,:].reshape(1,504)\n",
    "\n",
    "# # Data and codes for 'Y' key/class appearing on the left\n",
    "ind_1 = (y==1)\n",
    "X_1 = X[ind_1,:,:] \n",
    "V_1 = V[1,:].reshape(1,504)\n",
    "\n",
    "# labels\n",
    "'Note: In case you are computing spatial weights for just one class i.e. ONE code, make sure that y is a vector of zeros!' \n",
    "'(Why?: y is used to access M indices like M[y,...], so if M is 1 x 504 vector, only M[0,..] is an accessible dimension. For this case, if y happens to be 1 then M[1,...] will give out an index error)' \n",
    "'For more details, check line ~= 780 in classifiers.py'\n",
    "\n",
    "y_ind=np.zeros((20,1))\n",
    "print(\"Shape of data after separation\",X_0.shape,\"(trials x channels x samples)\")  "
   ]
  },
  {
   "cell_type": "markdown",
   "metadata": {},
   "source": [
    "##### Making for each class/ Split decoders"
   ]
  },
  {
   "cell_type": "markdown",
   "metadata": {},
   "source": [
    "###### _Class 1 has better lateralization as conmpared to class 0, possibly leading to higher decoding accuracies_"
   ]
  },
  {
   "cell_type": "code",
   "execution_count": 4,
   "metadata": {},
   "outputs": [
    {
     "name": "stdout",
     "output_type": "stream",
     "text": [
      "(20, 32, 2520)\n"
     ]
    }
   ],
   "source": [
    "def class_decision(X0,X1,y, codes, transient_size, plot,n_folds=4):\n",
    "    \"\"\"Returns the output of the decision function (scores) across all folds using the rcca module\n",
    "\n",
    "    Args:\n",
    "        X (array): \n",
    "            EEG Data (trials x channels x samples)\n",
    "        label (str): \n",
    "            String used for identifying the right codes to use ('0' or '1')     \n",
    "        y (array): \n",
    "            Class labels for each trial\n",
    "        codes (array): \n",
    "            Flashing codes used during the experiment (n_classes x samples)\n",
    "        transient_size (float): \n",
    "            Duration of the neural impulse responses        \n",
    "        n_folds (int, optional): \n",
    "            Number of folds used in cross validation. Defaults to 4.\n",
    "\n",
    "    Returns:\n",
    "        accuracy: \n",
    "            The percentage of accurately assigned class labels when compared to the ground truth\n",
    "            \n",
    "    \"\"\"      \n",
    "    \n",
    "    trialtime = 10.5  # limit trials to a certain duration in seconds\n",
    "    intertrialtime = 0  # ITI in seconds for computing ITR\n",
    "    n_samples = int(trialtime * fs)\n",
    "\n",
    "    \n",
    "    segmenttime = 0.1  # step size of the decoding curve in seconds\n",
    "    segments = np.arange(segmenttime, trialtime, segmenttime)\n",
    "    n_segments = segments.size\n",
    "    \n",
    "    # print(\"number of segments are\",n_segments)\n",
    "    \n",
    "    folds = np.repeat(np.arange(n_folds), int(X0.shape[0] / n_folds))\n",
    "    # print(\"shape of folds is\", folds.shape)\n",
    "\n",
    "    accuracy = np.zeros((n_folds, n_segments))\n",
    "    \n",
    "    # print(\"nfolds is\", n_folds)\n",
    "    # print('x shape is',X0.shape[0])\n",
    "     # Loop folds\n",
    "\n",
    "    for i_fold in range(n_folds):\n",
    "\n",
    "        # Split data to train and test set\n",
    "        X0_trn, y_trn = X0[folds != i_fold, :, :n_samples], y[folds != i_fold]\n",
    "        X0_tst, y0_tst = X0[folds == i_fold, :, :n_samples], y[folds == i_fold]; \n",
    "        \n",
    "        X1_trn = X1[folds != i_fold, :, :n_samples]\n",
    "        X1_tst = X1[folds == i_fold, :, :n_samples]\n",
    "        if i_fold == 0:\n",
    "            \n",
    "            print('shape of x train, test (split)', [X0_trn.shape[0],X0_tst.shape[0]])\n",
    "        \n",
    "        # if class is 1, then for checking if np.argmax gives the right result (which is 1) we need the ground truth to be also 1. (else condition)\n",
    "        # It is left as 0 when the class is 0 (ground truth and correct argmax answer are both 0)  \n",
    "        y1_test = np.ones_like(y0_tst)\n",
    "        \n",
    "        # concatenating data from both classes\n",
    "        X_concat = np.vstack((X0_tst,X1_tst))\n",
    "        y_concat = np.vstack([np.array(y0_tst),y1_test])\n",
    "  \n",
    "        # randomly choosing rows/ trials from the combined dataset  \n",
    "        rand_rows = np.random.choice(X_concat.shape[0], X0_tst.shape[0], replace = False) \n",
    "        \n",
    "        # Test data and labels come from the randomly selected rows of concatenated data\n",
    "        X_tst = X_concat[rand_rows]\n",
    "        y_tst = y_concat[rand_rows]               \n",
    "               \n",
    "        \n",
    "        # print(\"X_tst,y tst shape is\",[X_tst.shape, y_tst.shape])\n",
    "        # Setup classifiers\n",
    "        rcca_right = pyntbci.classifiers.rCCA(codes = codes[0,:].reshape(1,len(codes[0,:])), fs=fs, event=\"duration\", transient_size= transient_size, onset_event= True)\n",
    "        rcca_left = pyntbci.classifiers.rCCA(codes= codes[1,:].reshape(1,len(codes[1,:])), fs=fs, event= \"duration\", transient_size= transient_size, onset_event= True)\n",
    "        \n",
    "\n",
    "        # Train classifiers from both rccas (use training data respective for each class)\n",
    "        rcca_right.fit(X0_trn, y_trn.reshape(len(y_trn),))\n",
    "        rcca_left.fit(X1_trn, y_trn.reshape(len(y_trn),)) # y_trn is left as 0 in both cases because there is only one class present, see line 780 in classifiers.py for more info \n",
    "        \n",
    "        # print(\"shape of test vec 0,1\",[X0_tst.shape,X1_tst.shape])\n",
    "\n",
    "        # Loop segments\n",
    "        for i_segment in range(n_segments):\n",
    "\n",
    "            # # Apply classifier\n",
    "            rho_0 = rcca_right.decision_function(X_tst[:, :, :int(fs * segments[i_segment])])  \n",
    "            # print(\"X_tst.shape\",X_tst.shape) \n",
    "            rho_1 = rcca_left.decision_function(X_tst[:, :, :int(fs * segments[i_segment])])        \n",
    "            # print('rho shapes are (1,2)', [rho_0.shape, rho_1.shape])\n",
    "            corr_segment = np.squeeze(np.array([rho_0, rho_1]).T) # concatenating the correlation scores made with spatio-temporal filters from both classes\n",
    "            # print(corr_segment.shape)\n",
    "            # print(\"dimension of corr_segment before argmax is\",corr_segment.shape)\n",
    "            if n_folds == X0.shape[0]:\n",
    "                \n",
    "                scores= np.argmax(corr_segment)\n",
    "            else:\n",
    "                scores= np.argmax(corr_segment,axis =1) # this is where the score that is higher is chosen, it is either the first (boolean 0) or the second value (boolean 1) \n",
    "                   \n",
    "            accuracy[i_fold,i_segment] = np.mean(scores == y_tst) # % of accuracy in this fold and segment\n",
    "    \n",
    "                \n",
    "    # accuracy = np.mean(accuracy, axis =0).squeeze()        \n",
    "    \n",
    "    if plot == True:\n",
    "            \n",
    "        # Compute ITR\n",
    "        time = np.tile(segments[np.newaxis, :], (n_folds, 1))\n",
    "        # itr = pyntbci.utilities.itr(n_classes, accuracy, time + intertrialtime)\n",
    "\n",
    "        # Plot results\n",
    "        plt.figure(figsize= (15,4))\n",
    "        avg = accuracy.mean(axis=0)\n",
    "        std = accuracy.std(axis=0)\n",
    "        plt.plot(segments, avg, linestyle='-', marker='o', label=\"rCCA\")\n",
    "        print(\"shape of avg accuracy after averaging over folds\", avg.shape)\n",
    "        plt.fill_between(segments, avg + std, avg - std, alpha=0.2, label=\"_rCCA\")\n",
    "        plt.axhline(1 / n_classes, color=\"k\", linestyle=\"--\", alpha=0.5, label=\"chance\")\n",
    "        plt.ylabel(\"accuracy\")\n",
    "        # ax[1].set_ylabel(\"ITR [bits/min]\")\n",
    "        # plt.legend()\n",
    "        plt.title(f\"Decoding curve: avg decoding accuracy\")\n",
    "        # fig.tight_layout()\n",
    "\n",
    "        # Print accuracy (average and standard deviation over folds)\n",
    "        print(f\"Accuracy: avg={accuracy.mean():.2f} with std={accuracy.std():.2f}\") \n",
    "                \n",
    "    'combine the test data set splits of both of them and find a way to automate the taking of random samples the same size of X_test'       \n",
    "    return accuracy\n",
    "\n",
    "print(X_0.shape)\n"
   ]
  },
  {
   "cell_type": "markdown",
   "metadata": {},
   "source": [
    "##### Comparing accuracies for combined and split decoders"
   ]
  },
  {
   "cell_type": "code",
   "execution_count": 5,
   "metadata": {},
   "outputs": [
    {
     "name": "stdout",
     "output_type": "stream",
     "text": [
      "shape of x train, test (split) [16, 4]\n",
      "shape of x train, test (combined) [32, 8]\n",
      "shape of x train, test (split) [16, 4]\n",
      "shape of x train, test (combined) [32, 8]\n",
      "shape of x train, test (split) [16, 4]\n",
      "shape of x train, test (combined) [32, 8]\n",
      "shape of x train, test (split) [16, 4]\n",
      "shape of x train, test (combined) [32, 8]\n",
      "shape of x train, test (split) [16, 4]\n",
      "shape of x train, test (combined) [32, 8]\n",
      "shape of x train, test (split) [16, 4]\n",
      "shape of x train, test (combined) [32, 8]\n",
      "shape of x train, test (split) [16, 4]\n",
      "shape of x train, test (combined) [32, 8]\n",
      "shape of x train, test (split) [16, 4]\n",
      "shape of x train, test (combined) [32, 8]\n"
     ]
    }
   ],
   "source": [
    "# Trying different transient sizes\n",
    "transient_size_arr = np.linspace(0.2,0.9,8)\n",
    "acc_vec_end = np.zeros((2,len(transient_size_arr)))\n",
    "acc_vec_mid = np.zeros((2,len(transient_size_arr)))\n",
    "\n",
    "for i in range(len(transient_size_arr)):\n",
    "    \n",
    "    'getting results from split classifier'\n",
    "    scores = np.array(class_decision(X_0,X_1,y = y_ind, codes = V_needed, transient_size = transient_size_arr[i], plot = False, n_folds = 5))\n",
    "    avg_split,std_split = scores.mean(axis=0), scores.std(axis=0)\n",
    "    \n",
    "    \n",
    "\n",
    "    'Combined Classifier'\n",
    "    trialtime = 10.5  # limit trials to a certain duration in seconds\n",
    "    intertrialtime = 0  # ITI in seconds for computing ITR\n",
    "    n_samples = int(trialtime * fs)\n",
    "    n_folds = 5\n",
    "    folds = np.repeat(np.arange(n_folds), int(X.shape[0] / n_folds))\n",
    "\n",
    "    # Set decoding curve axis\n",
    "    segmenttime = 0.1  # step size of the decoding curve in seconds\n",
    "    segments = np.arange(segmenttime, trialtime, segmenttime)\n",
    "    n_segments = segments.size\n",
    "\n",
    "    # Loop folds\n",
    "    accuracy = np.zeros((n_folds, n_segments))\n",
    "    for i_fold in range(n_folds):\n",
    "\n",
    "        # Split data to train and test set\n",
    "        X_trn, y_trn = X[folds != i_fold, :, :n_samples], y[folds != i_fold]\n",
    "        X_tst, y_tst = X[folds == i_fold, :, :n_samples], y[folds == i_fold]\n",
    "        if i_fold == 0:\n",
    "            print('shape of x train, test (combined)', [X_trn.shape[0],X_tst.shape[0]])\n",
    "\n",
    "        # Setup classifier\n",
    "        rcca = pyntbci.classifiers.rCCA(codes=V_needed, fs=fs, event=\"duration\", transient_size= transient_size_arr[i], onset_event=True)\n",
    "\n",
    "        # Train classifier\n",
    "        rcca.fit(X_trn, y_trn)\n",
    "\n",
    "        # Loop segments\n",
    "        for i_segment in range(n_segments):\n",
    "\n",
    "            # Apply classifier\n",
    "            yh_tst = rcca.predict(X_tst[:, :, :int(fs * segments[i_segment])])\n",
    "\n",
    "            # Compute accuracy\n",
    "            accuracy[i_fold, i_segment] = np.mean(yh_tst == y_tst)\n",
    "            \n",
    "    \n",
    "    avg_combined = accuracy.mean(axis=0)\n",
    "    std_combined = accuracy.std(axis=0)  \n",
    "          \n",
    "    acc_vec_end[0,i], acc_vec_end[1,i] = avg_split[-1], avg_combined[-1]\n",
    "    acc_vec_mid[0,i], acc_vec_mid[1,i] = avg_split[segments == 6], avg_combined[segments == 6]\n",
    "    # Compute ITR\n",
    "    # time = np.tile(segments[np.newaxis, :], (n_folds, 1))\n",
    "\n",
    "\n",
    "    # avg = accuracy.mean(axis=0)\n",
    "    # std = accuracy.std(axis=0)\n",
    "    \n",
    "    # # plotting accuracies from combined classifier\n",
    "    # plt.plot(segments, avg, linestyle='-', marker='o', label=\"combined\")\n",
    "    # plt.fill_between(segments, avg + std, avg - std, alpha=0.2, label=\"_rcca\")\n",
    "\n",
    "    # # plotting accuracies from split classifiers\n",
    "    # plt.plot(segments, avg_split, linestyle='-', marker='o', label=\"split\")\n",
    "    # plt.fill_between(segments, avg_split + std_split, avg_split - std_split, alpha=0.2, label=\"_rcca\")\n",
    "\n",
    "    # print(\"shape of avg accuracy after averaging over folds\", avg.shape)\n",
    "    # plt.legend()\n",
    "\n",
    "    # plt.axhline(1 / n_classes, color=\"k\", linestyle=\"--\", alpha=0.5, label=\"chance\")\n",
    "    # plt.ylabel(\"accuracy\")\n",
    "    # plt.title(f\"Accuracy curve- transient size: {transient_size_arr[i]}\")\n",
    "    \n",
    "\n",
    "    # # Print accuracy (average and standard deviation over folds)\n",
    "    # print(f'**************************************** transient size = {transient_size_arr[i]}*************************************')\n",
    "    # print(f\"Accuracy combined classifier: avg={accuracy.mean():.2f} with std={accuracy.std():.2f}\")\n",
    "    # print(f\"Accuracy split classifier: avg={scores.mean():.2f} with std={scores.std():.2f}\")\n",
    "    # print(f'**************************************************************************************************')\n",
    "    \n"
   ]
  },
  {
   "cell_type": "code",
   "execution_count": 6,
   "metadata": {},
   "outputs": [
    {
     "data": {
      "text/plain": [
       "Text(0.5, 1.0, 'Accuracies: t = 6s')"
      ]
     },
     "execution_count": 6,
     "metadata": {},
     "output_type": "execute_result"
    },
    {
     "data": {
      "image/png": "[encoded data removed]",
      "text/plain": [
       "<Figure size 1600x400 with 2 Axes>"
      ]
     },
     "metadata": {},
     "output_type": "display_data"
    }
   ],
   "source": [
    "# Plot results\n",
    "plt.figure(figsize= (16,4))\n",
    "plt.subplot(121)\n",
    "plt.plot(transient_size_arr,acc_vec_end[0,:], linestyle = '-', marker = 'o', label = 'split')\n",
    "plt.plot(transient_size_arr,acc_vec_end[1,:], linestyle = '-', marker = 'o', label = 'combined')\n",
    "plt.xlabel('Transient Sizes')\n",
    "plt.ylabel('Accuracies')\n",
    "plt.ylim([0,1])\n",
    "plt.legend()\n",
    "plt.title('Accuracies: t = 10.5 ')\n",
    "\n",
    "plt.subplot(122)\n",
    "plt.plot(transient_size_arr,acc_vec_mid[0,:], linestyle = '-', marker = 'o', label = 'split')\n",
    "plt.plot(transient_size_arr, acc_vec_mid[1,:], linestyle = '-', marker = 'o', label = 'combined')\n",
    "plt.xlabel('Transient Sizes')\n",
    "plt.ylabel('Accuracies')\n",
    "plt.ylim([0,1])\n",
    "plt.legend()\n",
    "plt.title('Accuracies: t = 6s')"
   ]
  }
 ],
 "metadata": {
  "kernelspec": {
   "display_name": "Python 3",
   "language": "python",
   "name": "python3"
  },
  "language_info": {
   "codemirror_mode": {
    "name": "ipython",
    "version": 3
   },
   "file_extension": ".py",
   "mimetype": "text/x-python",
   "name": "python",
   "nbconvert_exporter": "python",
   "pygments_lexer": "ipython3",
   "version": "3.11.6"
  }
 },
 "nbformat": 4,
 "nbformat_minor": 2
}
